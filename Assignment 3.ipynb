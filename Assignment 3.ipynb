{
  "nbformat": 4,
  "nbformat_minor": 0,
  "metadata": {
    "colab": {
      "provenance": []
    },
    "kernelspec": {
      "name": "python3",
      "display_name": "Python 3"
    },
    "language_info": {
      "name": "python"
    }
  },
  "cells": [
    {
      "cell_type": "code",
      "execution_count": null,
      "metadata": {
        "colab": {
          "base_uri": "https://localhost:8080/"
        },
        "id": "iUJAb50KF2-V",
        "outputId": "4abbfc03-49ed-4a7e-944c-152c9a5ab471"
      },
      "outputs": [
        {
          "output_type": "stream",
          "name": "stdout",
          "text": [
            "AMINA AHMAD\n",
            "amina ahmad\n",
            "Amina Ahmad\n"
          ]
        }
      ],
      "source": [
        "name = \"Amina Ahmad\"\n",
        "print(name.upper())  # All in upper case like AMINA AHMAD with upper()\n",
        "print(name.lower())  # All in lower case like amina ahmad rehman with lower()\n",
        "print(name.title())  # All in upper case like Amina Ahmad with title()"
      ]
    },
    {
      "cell_type": "code",
      "source": [
        "first_name = \"Amina\"\n",
        "last_name = \"Ahmad\"\n",
        "full_name = f\"{first_name} {last_name}\"  # f-string to add above two variables\n",
        "print(f\"Hello, {full_name}!\")\n"
      ],
      "metadata": {
        "colab": {
          "base_uri": "https://localhost:8080/"
        },
        "id": "TtHGZNqfHSCt",
        "outputId": "b587051b-d793-42f8-8025-c817ab466759"
      },
      "execution_count": null,
      "outputs": [
        {
          "output_type": "stream",
          "name": "stdout",
          "text": [
            "Hello, Amina Ahmad!\n"
          ]
        }
      ]
    },
    {
      "cell_type": "code",
      "source": [
        "print(\"Amina \\n\\tAhmad\")  #\\n for New line and \\t for add tab space"
      ],
      "metadata": {
        "colab": {
          "base_uri": "https://localhost:8080/"
        },
        "id": "-eAAEH6RIE5Y",
        "outputId": "994b6852-0572-4a1f-e1d7-5e5dd7c6ba15"
      },
      "execution_count": null,
      "outputs": [
        {
          "output_type": "stream",
          "name": "stdout",
          "text": [
            "Amina \n",
            "\tAhmad\n"
          ]
        }
      ]
    },
    {
      "cell_type": "code",
      "source": [
        "message = \"    Amina Ahmad    \"\n",
        "print(message)\n",
        "print(message.strip())  # for removing all extra space\n",
        "print(message.rstrip())  # for removing right space\n",
        "print(message.lstrip())  # for removing left space\n"
      ],
      "metadata": {
        "colab": {
          "base_uri": "https://localhost:8080/"
        },
        "id": "foCacqRNJfev",
        "outputId": "5659387a-1a54-4bb0-9300-48aede693aec"
      },
      "execution_count": null,
      "outputs": [
        {
          "output_type": "stream",
          "name": "stdout",
          "text": [
            "    Amina Ahmad    \n",
            "Amina Ahmad\n",
            "    Amina Ahmad\n",
            "Amina Ahmad    \n"
          ]
        }
      ]
    },
    {
      "cell_type": "code",
      "source": [
        "name = \"Amina Ahmad\"\n",
        "print(name.removeprefix(\"Amina\"))  # to remove prefix\n"
      ],
      "metadata": {
        "colab": {
          "base_uri": "https://localhost:8080/"
        },
        "id": "mOHLwE7KL5IY",
        "outputId": "dd147c28-30da-4d74-a30f-9fc3d00c1a0c"
      },
      "execution_count": null,
      "outputs": [
        {
          "output_type": "stream",
          "name": "stdout",
          "text": [
            " Ahmad\n"
          ]
        }
      ]
    },
    {
      "cell_type": "code",
      "source": [
        "name= \"Amina Ahmad\"  # use double qouts\n",
        "name1 = 'Amina \"Ahmad\"'  # if we specied single word in string with double quots the whole string must be in single quots\n",
        "print(name)\n",
        "print(name1)"
      ],
      "metadata": {
        "colab": {
          "base_uri": "https://localhost:8080/"
        },
        "id": "ToS9EzT3MfDi",
        "outputId": "59740664-bd4e-4d43-b7fa-dcac63fb7c9a"
      },
      "execution_count": null,
      "outputs": [
        {
          "output_type": "stream",
          "name": "stdout",
          "text": [
            "Amina Ahmad\n",
            "Amina \"Ahmad\"\n"
          ]
        }
      ]
    },
    {
      "cell_type": "code",
      "source": [
        "#Integers are whole numbers.\n",
        "a = 5\n",
        "b = 15\n",
        "print(\"a=\",a)\n",
        "print(\"b=\",b)\n",
        "print(\"a + b=\",a + b)  # 20\n",
        "print(\"a - b=\",a - b)  # -10\n",
        "print(\"a * b=\",a * b)  # 75\n",
        "print(\"a / b=\",a / b)  # 0.333333\n"
      ],
      "metadata": {
        "colab": {
          "base_uri": "https://localhost:8080/"
        },
        "id": "BNx34W8DNMI6",
        "outputId": "e76e1be1-db81-4110-c27e-df951cb54f4e"
      },
      "execution_count": null,
      "outputs": [
        {
          "output_type": "stream",
          "name": "stdout",
          "text": [
            "a= 5\n",
            "b= 15\n",
            "a + b= 20\n",
            "a - b= -10\n",
            "a * b= 75\n",
            "a / b= 0.3333333333333333\n"
          ]
        }
      ]
    },
    {
      "cell_type": "code",
      "source": [
        "#Floats are numbers with decimals.\n",
        "x = 4  # integer\n",
        "y = 3.5  # float\n",
        "print(\"x + y=\",x + y)  # 7.5"
      ],
      "metadata": {
        "colab": {
          "base_uri": "https://localhost:8080/"
        },
        "id": "QyloFxgaOCAR",
        "outputId": "95723c25-6049-48e5-e529-11ca0d180e63"
      },
      "execution_count": null,
      "outputs": [
        {
          "output_type": "stream",
          "name": "stdout",
          "text": [
            "x + y= 7.5\n"
          ]
        }
      ]
    },
    {
      "cell_type": "code",
      "source": [
        "#A list is an ordered collection of items.\n",
        "fruits = [\"apple\", \"banana\", \"Orange\",\"mango\"]\n",
        "favorite_fruit = fruits[3]\n",
        "print(fruits)\n",
        "#Access elements in a list using their index:\n",
        "print(fruits[0])  # apple\n",
        "print(fruits[1])  # banana\n",
        "#You can use a list's element by storing it in a variable:\n",
        "print(f\"My favorite fruit is {favorite_fruit}.\")\n",
        "#Indexing\n",
        "print(fruits[-1])  # mango\n",
        "#slicing\n",
        "print(fruits[0:2])  # ['apple', 'banana']\n",
        "print(fruits[1:])   # ['banana', 'orange','mango']\n",
        "print(fruits[:2])   # ['apple', 'banana']\n",
        "\n",
        "fruits[0] = \"grapes\"\n",
        "print(fruits)  # ['grapes', 'banana', 'orange','mango']\n",
        "\n",
        "print(fruits.append(\"pineapple\"))  # None"
      ],
      "metadata": {
        "colab": {
          "base_uri": "https://localhost:8080/"
        },
        "id": "R0kpRS0EPDQT",
        "outputId": "e0618067-0237-46fc-9271-2012684848be"
      },
      "execution_count": null,
      "outputs": [
        {
          "output_type": "stream",
          "name": "stdout",
          "text": [
            "['apple', 'banana', 'Orange', 'mango']\n",
            "apple\n",
            "banana\n",
            "My favorite fruit is mango.\n",
            "mango\n",
            "['apple', 'banana']\n",
            "['banana', 'Orange', 'mango']\n",
            "['apple', 'banana']\n",
            "['grapes', 'banana', 'Orange', 'mango']\n",
            "None\n"
          ]
        }
      ]
    },
    {
      "cell_type": "code",
      "source": [
        "# Creating lists\n",
        "empty_list = []\n",
        "numbers = [1, 2, 3, 4, 5]\n",
        "mixed = [1, \"hello\", 3.14, True]\n",
        "\n",
        "# Accessing elements\n",
        "print(numbers[0])  # Output: 1\n",
        "print(mixed[-1])   # Output: True\n",
        "\n",
        "# Modifying elements\n",
        "numbers[1] = 10\n",
        "print(numbers)  # Output: [1, 10, 3, 4, 5]\n",
        "\n",
        "# if use append to add in list\n",
        "numbers.append(6)\n",
        "print(numbers)"
      ],
      "metadata": {
        "colab": {
          "base_uri": "https://localhost:8080/"
        },
        "id": "1jnWcz0DjTFz",
        "outputId": "53d3f55e-f393-45e6-ff25-3768730a8a6e"
      },
      "execution_count": null,
      "outputs": [
        {
          "output_type": "stream",
          "name": "stdout",
          "text": [
            "1\n",
            "True\n",
            "[1, 10, 3, 4, 5]\n",
            "[1, 10, 3, 4, 5, 6]\n"
          ]
        }
      ]
    }
  ]
}