{
  "nbformat": 4,
  "nbformat_minor": 0,
  "metadata": {
    "colab": {
      "provenance": []
    },
    "kernelspec": {
      "name": "python3",
      "display_name": "Python 3"
    },
    "language_info": {
      "name": "python"
    }
  },
  "cells": [
    {
      "cell_type": "code",
      "execution_count": null,
      "metadata": {
        "id": "6Eh56Mcrig9t"
      },
      "outputs": [],
      "source": []
    },
    {
      "cell_type": "code",
      "source": [
        "print(\"My name is Amina Ahmad\")"
      ],
      "metadata": {
        "colab": {
          "base_uri": "https://localhost:8080/"
        },
        "id": "I-uBXi5finIf",
        "outputId": "fb7a3ac4-fb43-4911-81c1-bfcc9e40d60f"
      },
      "execution_count": null,
      "outputs": [
        {
          "output_type": "stream",
          "name": "stdout",
          "text": [
            "My name is Amina Ahmad\n"
          ]
        }
      ]
    },
    {
      "cell_type": "code",
      "source": [
        "#Declear variable\n",
        "a=10\n",
        "b=5\n",
        "c=9\n",
        "print(c)"
      ],
      "metadata": {
        "colab": {
          "base_uri": "https://localhost:8080/"
        },
        "id": "UhYW8xmfjZuA",
        "outputId": "42061108-65ac-40b0-9afe-ece2b906716c"
      },
      "execution_count": null,
      "outputs": [
        {
          "output_type": "stream",
          "name": "stdout",
          "text": [
            "9\n"
          ]
        }
      ]
    },
    {
      "cell_type": "code",
      "source": [
        "#sting\n",
        "a=\"Hello \"\n",
        "b=\"World\"\n",
        "print(a+b)"
      ],
      "metadata": {
        "colab": {
          "base_uri": "https://localhost:8080/"
        },
        "id": "7WmV_U6jnTTt",
        "outputId": "031fee60-f06a-4e91-be13-307a0d84cbd9"
      },
      "execution_count": null,
      "outputs": [
        {
          "output_type": "stream",
          "name": "stdout",
          "text": [
            "Hello World\n"
          ]
        }
      ]
    },
    {
      "cell_type": "code",
      "source": [
        "#float\n",
        "a=2.7\n",
        "b=9.5\n",
        "print(b)"
      ],
      "metadata": {
        "colab": {
          "base_uri": "https://localhost:8080/"
        },
        "id": "P1sZFZUGn6Vw",
        "outputId": "1aff16fc-6bf4-4a90-f0a5-98e72845b33d"
      },
      "execution_count": null,
      "outputs": [
        {
          "output_type": "stream",
          "name": "stdout",
          "text": [
            "9.5\n"
          ]
        }
      ]
    },
    {
      "cell_type": "code",
      "source": [
        "# To know datatype of any variable\n",
        "a=\"Hello World\"\n",
        "b=95\n",
        "c=7.2\n",
        "print(\"data type of a is:\",type(a))\n",
        "print(\"data type of b is:\",type(b))\n",
        "print(\"data type  of c is:\",type(c))"
      ],
      "metadata": {
        "colab": {
          "base_uri": "https://localhost:8080/"
        },
        "id": "WydrM6oXoV1g",
        "outputId": "19f7ff02-562b-45a6-d761-6f2cda993150"
      },
      "execution_count": null,
      "outputs": [
        {
          "output_type": "stream",
          "name": "stdout",
          "text": [
            "data type of a is: <class 'str'>\n",
            "data type of b is: <class 'int'>\n",
            "data type  of c is: <class 'float'>\n"
          ]
        }
      ]
    },
    {
      "cell_type": "code",
      "source": [
        "from typing import ByteString\n",
        "#Add two numbers\n",
        "a=5.3\n",
        "b=10\n",
        "c=a+b\n",
        "print(\"a+b = \",c)\n",
        "#Multiply a float and integer value\n",
        "d=a*b\n",
        "print(\"a*b = \",d)"
      ],
      "metadata": {
        "colab": {
          "base_uri": "https://localhost:8080/"
        },
        "id": "2kylNIKqqYtq",
        "outputId": "8f597b96-67e2-4665-ca15-d8866b85d50d"
      },
      "execution_count": null,
      "outputs": [
        {
          "output_type": "stream",
          "name": "stdout",
          "text": [
            "a+b =  15.3\n",
            "a*b =  53.0\n"
          ]
        }
      ]
    }
  ]
}