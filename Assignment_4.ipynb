{
  "nbformat": 4,
  "nbformat_minor": 0,
  "metadata": {
    "colab": {
      "provenance": []
    },
    "kernelspec": {
      "name": "python3",
      "display_name": "Python 3"
    },
    "language_info": {
      "name": "python"
    }
  },
  "cells": [
    {
      "cell_type": "code",
      "source": [
        "# List of friends' names\n",
        "names = [\"Mahnoor\", \"Ayesha\", \"Hafsa\" ,\"Noor Fatima\" ,\"Amina\"]\n",
        "\n",
        "# Print each name\n",
        "for name in names:\n",
        "    print(name)\n"
      ],
      "metadata": {
        "colab": {
          "base_uri": "https://localhost:8080/"
        },
        "id": "4f7BCVocHDkF",
        "outputId": "00bfe259-9a76-4eff-89ae-16d6162086b2"
      },
      "execution_count": null,
      "outputs": [
        {
          "output_type": "stream",
          "name": "stdout",
          "text": [
            "['Mahnoor', 'Ayesha', 'Hafsa', 'Noor Fatima', 'Amina']\n"
          ]
        }
      ]
    },
    {
      "cell_type": "code",
      "source": [
        "names = [\"Mahnoor\", \"Ayesha\", \"Hafsa\" ,\"Noor Fatima\" ,\"Amina\"]\n",
        "\n",
        "# Print personalized greetings\n",
        "for name in names:\n",
        "    print(f\"Hello, {name}! Hope you're fine dear friend.\")\n"
      ],
      "metadata": {
        "colab": {
          "base_uri": "https://localhost:8080/"
        },
        "id": "b3ltCkiWJU0o",
        "outputId": "cec4e95e-741a-4e7e-f5bd-b5d64d81f08d"
      },
      "execution_count": null,
      "outputs": [
        {
          "output_type": "stream",
          "name": "stdout",
          "text": [
            "Hello, Mahnoor! Hope you're fine dear friend.\n",
            "Hello, Ayesha! Hope you're fine dear friend.\n",
            "Hello, Hafsa! Hope you're fine dear friend.\n",
            "Hello, Noor Fatima! Hope you're fine dear friend.\n",
            "Hello, Amina! Hope you're fine dear friend.\n"
          ]
        }
      ]
    },
    {
      "cell_type": "code",
      "source": [
        "# Favorite modes of transportation\n",
        "trans = [\"Bus\", \"Airplane\", \"Bike\",\"Car\"]\n",
        "\n",
        "# Print statements\n",
        "for item in trans:\n",
        "    print(f\"I like to travel on a {item}.\")\n"
      ],
      "metadata": {
        "colab": {
          "base_uri": "https://localhost:8080/"
        },
        "id": "a9odrbHHK_XI",
        "outputId": "5568e8d9-1aac-4a68-a376-8fcc377f62a8"
      },
      "execution_count": null,
      "outputs": [
        {
          "output_type": "stream",
          "name": "stdout",
          "text": [
            "I like to travel on a Bus.\n",
            "I like to travel on a Airplane.\n",
            "I like to travel on a Bike.\n",
            "I like to travel on a Car.\n"
          ]
        }
      ]
    },
    {
      "cell_type": "code",
      "source": [
        "# Guest list\n",
        "guest_list = [\"Mahnoor\", \"Ayesha\", \"Hafsa\" ,\"Noor Fatima\" ,\"Amina\"]\n",
        "\n",
        "# Print invitations\n",
        "for guest in guest_list:\n",
        "    print(f\"Dear {guest}, you are invited to dinner at my banglow.\")\n",
        "\n",
        "#two new line\n",
        "print(\"\\n\")\n",
        "print(\"\\n\")\n",
        "# Announce a guest can't make it\n",
        "print(f\"Unfortunately, {guest_list[1]} can't make it to the dinner.\")\n",
        "\n",
        "# Replace the guest\n",
        "guest_list[1] = \"Senaan\"\n",
        "\n",
        "print(\"\\n\")\n",
        "# Print new invitations\n",
        "for guest in guest_list:\n",
        "    print(f\"Dear {guest}, you are invited to dinner at my banglow.\")\n",
        "\n",
        "print(\"\\n\")\n",
        "print(\"Now we have more plae of invitation for dinner\")\n",
        "# Add more guests\n",
        "guest_list.insert(0, \"Mariam\")\n",
        "guest_list.insert(2, \"Tabeer\")\n",
        "guest_list.append(\"Esha\")\n",
        "\n",
        "# Print new invitations\n",
        "for guest in guest_list:\n",
        "    print(f\"Dear {guest}, you are invited to dinner at my banglow.\")\n",
        "\n",
        "print(\"\\n\")\n",
        "# if we want to reduce guests\n",
        "print(\"Unfortunately, we can't only invite three guests.\")\n",
        "# Guest list\n",
        "guest_list = [\"Mahnoor\", \"Ayesha\", \"Hafsa\" ,\"Noor Fatima\" ,\"Amina\"]\n",
        "\n",
        "# Print invitations\n",
        "for guest in guest_list:\n",
        "    print(f\"Dear {guest}, you are invited to dinner at my banglow.\")\n",
        "\n",
        "#two new line\n",
        "print(\"\\n\")\n",
        "print(\"\\n\")\n",
        "# Announce a guest can't make it\n",
        "print(f\"Unfortunately, {guest_list[1]} can't make it to the dinner.\")\n",
        "\n",
        "# Replace the guest\n",
        "guest_list[1] = \"Senaan\"\n",
        "\n",
        "print(\"\\n\")\n",
        "# Print new invitations\n",
        "for guest in guest_list:\n",
        "    print(f\"Dear {guest}, you are invited to dinner at my banglow.\")\n",
        "\n",
        "print(\"\\n\")\n",
        "print(\"Now we have more plae of invitation for dinner\")\n",
        "# Add more guests\n",
        "guest_list.insert(0, \"Mariam\")\n",
        "guest_list.insert(2, \"Tabeer\")\n",
        "guest_list.append(\"Esha\")\n",
        "\n",
        "# Print new invitations\n",
        "for guest in guest_list:\n",
        "    print(f\"Dear {guest}, you are invited to dinner at my banglow.\")\n",
        "\n",
        "print(\"\\n\")\n",
        "# if we want to reduce guests\n",
        "print(\"\\n\")\n",
        "print(\"Unfortunately, we can only invite two guests.\")\n",
        "\n",
        "# Keep only the first two guests\n",
        "guest_list = guest_list[:2]  # This slices the list and keeps elements from index 0 to 1\n",
        "\n",
        "# Print invitations for the two guests\n",
        "for guest in guest_list:\n",
        "    print(f\"Dear {guest}, you are invited to dinner at my banglow.\")\n",
        "\n",
        "# Now count the guest\n",
        "print(f\"I am inviting {len(guest_list)} people to dinner.\")\n"
      ],
      "metadata": {
        "colab": {
          "base_uri": "https://localhost:8080/"
        },
        "id": "P13CdoIxNMR7",
        "outputId": "733fede1-404e-4b46-9c59-1eefa8fef048"
      },
      "execution_count": null,
      "outputs": [
        {
          "output_type": "stream",
          "name": "stdout",
          "text": [
            "Dear Mahnoor, you are invited to dinner at my banglow.\n",
            "Dear Ayesha, you are invited to dinner at my banglow.\n",
            "Dear Hafsa, you are invited to dinner at my banglow.\n",
            "Dear Noor Fatima, you are invited to dinner at my banglow.\n",
            "Dear Amina, you are invited to dinner at my banglow.\n",
            "\n",
            "\n",
            "\n",
            "\n",
            "Unfortunately, Ayesha can't make it to the dinner.\n",
            "\n",
            "\n",
            "Dear Mahnoor, you are invited to dinner at my banglow.\n",
            "Dear Senaan, you are invited to dinner at my banglow.\n",
            "Dear Hafsa, you are invited to dinner at my banglow.\n",
            "Dear Noor Fatima, you are invited to dinner at my banglow.\n",
            "Dear Amina, you are invited to dinner at my banglow.\n",
            "\n",
            "\n",
            "Now we have more plae of invitation for dinner\n",
            "Dear Mariam, you are invited to dinner at my banglow.\n",
            "Dear Mahnoor, you are invited to dinner at my banglow.\n",
            "Dear Tabeer, you are invited to dinner at my banglow.\n",
            "Dear Senaan, you are invited to dinner at my banglow.\n",
            "Dear Hafsa, you are invited to dinner at my banglow.\n",
            "Dear Noor Fatima, you are invited to dinner at my banglow.\n",
            "Dear Amina, you are invited to dinner at my banglow.\n",
            "Dear Esha, you are invited to dinner at my banglow.\n",
            "\n",
            "\n",
            "Unfortunately, we can't only invite three guests.\n",
            "Dear Mahnoor, you are invited to dinner at my banglow.\n",
            "Dear Ayesha, you are invited to dinner at my banglow.\n",
            "Dear Hafsa, you are invited to dinner at my banglow.\n",
            "Dear Noor Fatima, you are invited to dinner at my banglow.\n",
            "Dear Amina, you are invited to dinner at my banglow.\n",
            "\n",
            "\n",
            "\n",
            "\n",
            "Unfortunately, Ayesha can't make it to the dinner.\n",
            "\n",
            "\n",
            "Dear Mahnoor, you are invited to dinner at my banglow.\n",
            "Dear Senaan, you are invited to dinner at my banglow.\n",
            "Dear Hafsa, you are invited to dinner at my banglow.\n",
            "Dear Noor Fatima, you are invited to dinner at my banglow.\n",
            "Dear Amina, you are invited to dinner at my banglow.\n",
            "\n",
            "\n",
            "Now we have more plae of invitation for dinner\n",
            "Dear Mariam, you are invited to dinner at my banglow.\n",
            "Dear Mahnoor, you are invited to dinner at my banglow.\n",
            "Dear Tabeer, you are invited to dinner at my banglow.\n",
            "Dear Senaan, you are invited to dinner at my banglow.\n",
            "Dear Hafsa, you are invited to dinner at my banglow.\n",
            "Dear Noor Fatima, you are invited to dinner at my banglow.\n",
            "Dear Amina, you are invited to dinner at my banglow.\n",
            "Dear Esha, you are invited to dinner at my banglow.\n",
            "\n",
            "\n",
            "\n",
            "\n",
            "Unfortunately, we can only invite two guests.\n",
            "Dear Mariam, you are invited to dinner at my banglow.\n",
            "Dear Mahnoor, you are invited to dinner at my banglow.\n",
            "I am inviting 2 people to dinner.\n"
          ]
        }
      ]
    },
    {
      "cell_type": "code",
      "source": [
        "# List of places\n",
        "places = [\"Japan\", \"Iceland\", \"Italy\", \"Australia\", \"Canada\"]\n",
        "\n",
        "# Print original list\n",
        "print(\"Original list:\", places)\n",
        "\n",
        "# Alphabetical order\n",
        "print(\"Alphabetical:\", sorted(places))\n",
        "\n",
        "# Reverse alphabetical order\n",
        "print(\"Reverse alphabetical:\", sorted(places, reverse=True))\n",
        "\n",
        "# Original list remains unchanged\n",
        "print(\"Original list after sorted:\", places)\n",
        "\n",
        "# Reverse the list\n",
        "places.reverse()\n",
        "print(\"Reversed list:\", places)\n",
        "\n",
        "# Revert to original\n",
        "places.reverse()\n",
        "print(\"Back to original:\", places)\n",
        "\n",
        "# Sort alphabetically\n",
        "places.sort()\n",
        "print(\"Alphabetical order:\", places)\n",
        "\n",
        "# Sort reverse alphabetically\n",
        "places.sort(reverse=True)\n",
        "print(\"Reverse alphabetical order:\", places)\n"
      ],
      "metadata": {
        "colab": {
          "base_uri": "https://localhost:8080/"
        },
        "id": "hGdCHWnMOoxB",
        "outputId": "4da1447c-d96f-40e3-d04a-ed7a59705769"
      },
      "execution_count": null,
      "outputs": [
        {
          "output_type": "stream",
          "name": "stdout",
          "text": [
            "Original list: ['Japan', 'Iceland', 'Italy', 'Australia', 'Canada']\n",
            "Alphabetical: ['Australia', 'Canada', 'Iceland', 'Italy', 'Japan']\n",
            "Reverse alphabetical: ['Japan', 'Italy', 'Iceland', 'Canada', 'Australia']\n",
            "Original list after sorted: ['Japan', 'Iceland', 'Italy', 'Australia', 'Canada']\n",
            "Reversed list: ['Canada', 'Australia', 'Italy', 'Iceland', 'Japan']\n",
            "Back to original: ['Japan', 'Iceland', 'Italy', 'Australia', 'Canada']\n",
            "Alphabetical order: ['Australia', 'Canada', 'Iceland', 'Italy', 'Japan']\n",
            "Reverse alphabetical order: ['Japan', 'Italy', 'Iceland', 'Canada', 'Australia']\n"
          ]
        }
      ]
    },
    {
      "cell_type": "code",
      "source": [
        "items = [\"Python\", \"Java\", \"C++\", \"JavaScript\"]\n",
        "\n",
        "# Append\n",
        "items.append(\"Ruby\")\n",
        "# Insert\n",
        "items.insert(1, \"C#\")\n",
        "# Remove\n",
        "items.remove(\"Java\")\n",
        "# Pop\n",
        "last_item = items.pop()\n",
        "# Sort\n",
        "items.sort()\n",
        "# Reverse\n",
        "items.reverse()\n",
        "# Count\n",
        "count = items.count(\"Python\")\n",
        "\n",
        "print(\"Final list:\", items)\n"
      ],
      "metadata": {
        "colab": {
          "base_uri": "https://localhost:8080/"
        },
        "id": "6DMyFy4ENkLa",
        "outputId": "4df2c764-f22f-4a81-e499-07fa7b4616d2"
      },
      "execution_count": null,
      "outputs": [
        {
          "output_type": "stream",
          "name": "stdout",
          "text": [
            "Final list: ['Python', 'JavaScript', 'C++', 'C#']\n"
          ]
        }
      ]
    },
    {
      "cell_type": "code",
      "source": [
        "items = [\"Python\", \"Java\", \"C++\"]\n",
        "\n",
        "# Intentional error\n",
        "# print(items[3])  # IndexError: list index out of range\n",
        "\n",
        "# Corrected\n",
        "print(items[-1])\n"
      ],
      "metadata": {
        "colab": {
          "base_uri": "https://localhost:8080/"
        },
        "id": "yBIlAsaNXt3K",
        "outputId": "a0c2e243-3404-4c12-9d2d-d3175fbcaa40"
      },
      "execution_count": null,
      "outputs": [
        {
          "output_type": "stream",
          "name": "stdout",
          "text": [
            "C++\n"
          ]
        }
      ]
    }
  ]
}